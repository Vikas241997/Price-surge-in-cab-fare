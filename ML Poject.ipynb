{
 "cells": [
  {
   "cell_type": "code",
   "execution_count": 1,
   "metadata": {},
   "outputs": [],
   "source": [
    "import pandas as pd\n",
    "import numpy as np\n",
    "import seaborn as sns\n",
    "import matplotlib.pyplot as plt\n",
    "%matplotlib inline"
   ]
  },
  {
   "cell_type": "code",
   "execution_count": 44,
   "metadata": {},
   "outputs": [],
   "source": [
    "sns.set_style('whitegrid')"
   ]
  },
  {
   "cell_type": "code",
   "execution_count": 3,
   "metadata": {},
   "outputs": [
    {
     "data": {
      "text/html": [
       "<div>\n",
       "<style scoped>\n",
       "    .dataframe tbody tr th:only-of-type {\n",
       "        vertical-align: middle;\n",
       "    }\n",
       "\n",
       "    .dataframe tbody tr th {\n",
       "        vertical-align: top;\n",
       "    }\n",
       "\n",
       "    .dataframe thead th {\n",
       "        text-align: right;\n",
       "    }\n",
       "</style>\n",
       "<table border=\"1\" class=\"dataframe\">\n",
       "  <thead>\n",
       "    <tr style=\"text-align: right;\">\n",
       "      <th></th>\n",
       "      <th>VendorID</th>\n",
       "      <th>tpep_pickup_datetime</th>\n",
       "      <th>tpep_dropoff_datetime</th>\n",
       "      <th>passenger_count</th>\n",
       "      <th>trip_distance</th>\n",
       "      <th>RatecodeID</th>\n",
       "      <th>store_and_fwd_flag</th>\n",
       "      <th>PULocationID</th>\n",
       "      <th>DOLocationID</th>\n",
       "      <th>payment_type</th>\n",
       "      <th>fare_amount</th>\n",
       "      <th>extra</th>\n",
       "      <th>mta_tax</th>\n",
       "      <th>tip_amount</th>\n",
       "      <th>tolls_amount</th>\n",
       "      <th>improvement_surcharge</th>\n",
       "      <th>total_amount</th>\n",
       "    </tr>\n",
       "  </thead>\n",
       "  <tbody>\n",
       "    <tr>\n",
       "      <th>0</th>\n",
       "      <td>1</td>\n",
       "      <td>2017-01-09 11:13:28</td>\n",
       "      <td>2017-01-09 11:25:45</td>\n",
       "      <td>1</td>\n",
       "      <td>3.30</td>\n",
       "      <td>1</td>\n",
       "      <td>N</td>\n",
       "      <td>263</td>\n",
       "      <td>161</td>\n",
       "      <td>1</td>\n",
       "      <td>12.5</td>\n",
       "      <td>0.0</td>\n",
       "      <td>0.5</td>\n",
       "      <td>2.00</td>\n",
       "      <td>0.0</td>\n",
       "      <td>0.3</td>\n",
       "      <td>15.30</td>\n",
       "    </tr>\n",
       "    <tr>\n",
       "      <th>1</th>\n",
       "      <td>1</td>\n",
       "      <td>2017-01-09 11:32:27</td>\n",
       "      <td>2017-01-09 11:36:01</td>\n",
       "      <td>1</td>\n",
       "      <td>0.90</td>\n",
       "      <td>1</td>\n",
       "      <td>N</td>\n",
       "      <td>186</td>\n",
       "      <td>234</td>\n",
       "      <td>1</td>\n",
       "      <td>5.0</td>\n",
       "      <td>0.0</td>\n",
       "      <td>0.5</td>\n",
       "      <td>1.45</td>\n",
       "      <td>0.0</td>\n",
       "      <td>0.3</td>\n",
       "      <td>7.25</td>\n",
       "    </tr>\n",
       "    <tr>\n",
       "      <th>2</th>\n",
       "      <td>1</td>\n",
       "      <td>2017-01-09 11:38:20</td>\n",
       "      <td>2017-01-09 11:42:05</td>\n",
       "      <td>1</td>\n",
       "      <td>1.10</td>\n",
       "      <td>1</td>\n",
       "      <td>N</td>\n",
       "      <td>164</td>\n",
       "      <td>161</td>\n",
       "      <td>1</td>\n",
       "      <td>5.5</td>\n",
       "      <td>0.0</td>\n",
       "      <td>0.5</td>\n",
       "      <td>1.00</td>\n",
       "      <td>0.0</td>\n",
       "      <td>0.3</td>\n",
       "      <td>7.30</td>\n",
       "    </tr>\n",
       "    <tr>\n",
       "      <th>3</th>\n",
       "      <td>1</td>\n",
       "      <td>2017-01-09 11:52:13</td>\n",
       "      <td>2017-01-09 11:57:36</td>\n",
       "      <td>1</td>\n",
       "      <td>1.10</td>\n",
       "      <td>1</td>\n",
       "      <td>N</td>\n",
       "      <td>236</td>\n",
       "      <td>75</td>\n",
       "      <td>1</td>\n",
       "      <td>6.0</td>\n",
       "      <td>0.0</td>\n",
       "      <td>0.5</td>\n",
       "      <td>1.70</td>\n",
       "      <td>0.0</td>\n",
       "      <td>0.3</td>\n",
       "      <td>8.50</td>\n",
       "    </tr>\n",
       "    <tr>\n",
       "      <th>4</th>\n",
       "      <td>2</td>\n",
       "      <td>2017-01-01 00:00:00</td>\n",
       "      <td>2017-01-01 00:00:00</td>\n",
       "      <td>1</td>\n",
       "      <td>0.02</td>\n",
       "      <td>2</td>\n",
       "      <td>N</td>\n",
       "      <td>249</td>\n",
       "      <td>234</td>\n",
       "      <td>2</td>\n",
       "      <td>52.0</td>\n",
       "      <td>0.0</td>\n",
       "      <td>0.5</td>\n",
       "      <td>0.00</td>\n",
       "      <td>0.0</td>\n",
       "      <td>0.3</td>\n",
       "      <td>52.80</td>\n",
       "    </tr>\n",
       "  </tbody>\n",
       "</table>\n",
       "</div>"
      ],
      "text/plain": [
       "   VendorID tpep_pickup_datetime tpep_dropoff_datetime  passenger_count  \\\n",
       "0         1  2017-01-09 11:13:28   2017-01-09 11:25:45                1   \n",
       "1         1  2017-01-09 11:32:27   2017-01-09 11:36:01                1   \n",
       "2         1  2017-01-09 11:38:20   2017-01-09 11:42:05                1   \n",
       "3         1  2017-01-09 11:52:13   2017-01-09 11:57:36                1   \n",
       "4         2  2017-01-01 00:00:00   2017-01-01 00:00:00                1   \n",
       "\n",
       "   trip_distance  RatecodeID store_and_fwd_flag  PULocationID  DOLocationID  \\\n",
       "0           3.30           1                  N           263           161   \n",
       "1           0.90           1                  N           186           234   \n",
       "2           1.10           1                  N           164           161   \n",
       "3           1.10           1                  N           236            75   \n",
       "4           0.02           2                  N           249           234   \n",
       "\n",
       "   payment_type  fare_amount  extra  mta_tax  tip_amount  tolls_amount  \\\n",
       "0             1         12.5    0.0      0.5        2.00           0.0   \n",
       "1             1          5.0    0.0      0.5        1.45           0.0   \n",
       "2             1          5.5    0.0      0.5        1.00           0.0   \n",
       "3             1          6.0    0.0      0.5        1.70           0.0   \n",
       "4             2         52.0    0.0      0.5        0.00           0.0   \n",
       "\n",
       "   improvement_surcharge  total_amount  \n",
       "0                    0.3         15.30  \n",
       "1                    0.3          7.25  \n",
       "2                    0.3          7.30  \n",
       "3                    0.3          8.50  \n",
       "4                    0.3         52.80  "
      ]
     },
     "execution_count": 3,
     "metadata": {},
     "output_type": "execute_result"
    }
   ],
   "source": [
    "df = pd.read_csv(\"yellow_tripdata_2017-01.csv\")\n",
    "df.head()"
   ]
  },
  {
   "cell_type": "code",
   "execution_count": 4,
   "metadata": {},
   "outputs": [
    {
     "name": "stdout",
     "output_type": "stream",
     "text": [
      "<class 'pandas.core.frame.DataFrame'>\n",
      "RangeIndex: 9710124 entries, 0 to 9710123\n",
      "Data columns (total 17 columns):\n",
      "VendorID                 int64\n",
      "tpep_pickup_datetime     object\n",
      "tpep_dropoff_datetime    object\n",
      "passenger_count          int64\n",
      "trip_distance            float64\n",
      "RatecodeID               int64\n",
      "store_and_fwd_flag       object\n",
      "PULocationID             int64\n",
      "DOLocationID             int64\n",
      "payment_type             int64\n",
      "fare_amount              float64\n",
      "extra                    float64\n",
      "mta_tax                  float64\n",
      "tip_amount               float64\n",
      "tolls_amount             float64\n",
      "improvement_surcharge    float64\n",
      "total_amount             float64\n",
      "dtypes: float64(8), int64(6), object(3)\n",
      "memory usage: 1.2+ GB\n"
     ]
    }
   ],
   "source": [
    "df.info()"
   ]
  },
  {
   "cell_type": "code",
   "execution_count": 5,
   "metadata": {},
   "outputs": [
    {
     "data": {
      "text/html": [
       "<div>\n",
       "<style scoped>\n",
       "    .dataframe tbody tr th:only-of-type {\n",
       "        vertical-align: middle;\n",
       "    }\n",
       "\n",
       "    .dataframe tbody tr th {\n",
       "        vertical-align: top;\n",
       "    }\n",
       "\n",
       "    .dataframe thead th {\n",
       "        text-align: right;\n",
       "    }\n",
       "</style>\n",
       "<table border=\"1\" class=\"dataframe\">\n",
       "  <thead>\n",
       "    <tr style=\"text-align: right;\">\n",
       "      <th></th>\n",
       "      <th>VendorID</th>\n",
       "      <th>passenger_count</th>\n",
       "      <th>trip_distance</th>\n",
       "      <th>RatecodeID</th>\n",
       "      <th>PULocationID</th>\n",
       "      <th>DOLocationID</th>\n",
       "      <th>payment_type</th>\n",
       "      <th>fare_amount</th>\n",
       "      <th>extra</th>\n",
       "      <th>mta_tax</th>\n",
       "      <th>tip_amount</th>\n",
       "      <th>tolls_amount</th>\n",
       "      <th>improvement_surcharge</th>\n",
       "      <th>total_amount</th>\n",
       "    </tr>\n",
       "  </thead>\n",
       "  <tbody>\n",
       "    <tr>\n",
       "      <th>count</th>\n",
       "      <td>9.710124e+06</td>\n",
       "      <td>9.710124e+06</td>\n",
       "      <td>9.710124e+06</td>\n",
       "      <td>9.710124e+06</td>\n",
       "      <td>9.710124e+06</td>\n",
       "      <td>9.710124e+06</td>\n",
       "      <td>9.710124e+06</td>\n",
       "      <td>9.710124e+06</td>\n",
       "      <td>9.710124e+06</td>\n",
       "      <td>9.710124e+06</td>\n",
       "      <td>9.710124e+06</td>\n",
       "      <td>9.710124e+06</td>\n",
       "      <td>9.710124e+06</td>\n",
       "      <td>9.710124e+06</td>\n",
       "    </tr>\n",
       "    <tr>\n",
       "      <th>mean</th>\n",
       "      <td>1.547079e+00</td>\n",
       "      <td>1.628982e+00</td>\n",
       "      <td>2.813899e+00</td>\n",
       "      <td>1.039581e+00</td>\n",
       "      <td>1.641065e+02</td>\n",
       "      <td>1.617627e+02</td>\n",
       "      <td>1.337541e+00</td>\n",
       "      <td>1.237423e+01</td>\n",
       "      <td>3.234861e-01</td>\n",
       "      <td>4.975229e-01</td>\n",
       "      <td>1.751269e+00</td>\n",
       "      <td>2.764163e-01</td>\n",
       "      <td>2.996799e-01</td>\n",
       "      <td>1.552673e+01</td>\n",
       "    </tr>\n",
       "    <tr>\n",
       "      <th>std</th>\n",
       "      <td>4.977787e-01</td>\n",
       "      <td>1.271994e+00</td>\n",
       "      <td>3.611680e+00</td>\n",
       "      <td>5.059084e-01</td>\n",
       "      <td>6.664998e+01</td>\n",
       "      <td>7.067207e+01</td>\n",
       "      <td>4.913703e-01</td>\n",
       "      <td>2.652315e+02</td>\n",
       "      <td>4.425577e-01</td>\n",
       "      <td>4.881278e-02</td>\n",
       "      <td>2.571253e+00</td>\n",
       "      <td>1.638840e+00</td>\n",
       "      <td>1.341976e-02</td>\n",
       "      <td>2.653479e+02</td>\n",
       "    </tr>\n",
       "    <tr>\n",
       "      <th>min</th>\n",
       "      <td>1.000000e+00</td>\n",
       "      <td>0.000000e+00</td>\n",
       "      <td>0.000000e+00</td>\n",
       "      <td>1.000000e+00</td>\n",
       "      <td>1.000000e+00</td>\n",
       "      <td>1.000000e+00</td>\n",
       "      <td>1.000000e+00</td>\n",
       "      <td>-3.500000e+02</td>\n",
       "      <td>-5.520000e+01</td>\n",
       "      <td>-5.000000e-01</td>\n",
       "      <td>-4.100000e+01</td>\n",
       "      <td>-1.500000e+01</td>\n",
       "      <td>-3.000000e-01</td>\n",
       "      <td>-3.503000e+02</td>\n",
       "    </tr>\n",
       "    <tr>\n",
       "      <th>25%</th>\n",
       "      <td>1.000000e+00</td>\n",
       "      <td>1.000000e+00</td>\n",
       "      <td>9.500000e-01</td>\n",
       "      <td>1.000000e+00</td>\n",
       "      <td>1.140000e+02</td>\n",
       "      <td>1.070000e+02</td>\n",
       "      <td>1.000000e+00</td>\n",
       "      <td>6.500000e+00</td>\n",
       "      <td>0.000000e+00</td>\n",
       "      <td>5.000000e-01</td>\n",
       "      <td>0.000000e+00</td>\n",
       "      <td>0.000000e+00</td>\n",
       "      <td>3.000000e-01</td>\n",
       "      <td>8.300000e+00</td>\n",
       "    </tr>\n",
       "    <tr>\n",
       "      <th>50%</th>\n",
       "      <td>2.000000e+00</td>\n",
       "      <td>1.000000e+00</td>\n",
       "      <td>1.600000e+00</td>\n",
       "      <td>1.000000e+00</td>\n",
       "      <td>1.620000e+02</td>\n",
       "      <td>1.620000e+02</td>\n",
       "      <td>1.000000e+00</td>\n",
       "      <td>9.000000e+00</td>\n",
       "      <td>0.000000e+00</td>\n",
       "      <td>5.000000e-01</td>\n",
       "      <td>1.300000e+00</td>\n",
       "      <td>0.000000e+00</td>\n",
       "      <td>3.000000e-01</td>\n",
       "      <td>1.130000e+01</td>\n",
       "    </tr>\n",
       "    <tr>\n",
       "      <th>75%</th>\n",
       "      <td>2.000000e+00</td>\n",
       "      <td>2.000000e+00</td>\n",
       "      <td>2.900000e+00</td>\n",
       "      <td>1.000000e+00</td>\n",
       "      <td>2.330000e+02</td>\n",
       "      <td>2.340000e+02</td>\n",
       "      <td>2.000000e+00</td>\n",
       "      <td>1.350000e+01</td>\n",
       "      <td>5.000000e-01</td>\n",
       "      <td>5.000000e-01</td>\n",
       "      <td>2.260000e+00</td>\n",
       "      <td>0.000000e+00</td>\n",
       "      <td>3.000000e-01</td>\n",
       "      <td>1.675000e+01</td>\n",
       "    </tr>\n",
       "    <tr>\n",
       "      <th>max</th>\n",
       "      <td>2.000000e+00</td>\n",
       "      <td>9.000000e+00</td>\n",
       "      <td>2.647100e+02</td>\n",
       "      <td>9.900000e+01</td>\n",
       "      <td>2.650000e+02</td>\n",
       "      <td>2.650000e+02</td>\n",
       "      <td>5.000000e+00</td>\n",
       "      <td>6.259008e+05</td>\n",
       "      <td>5.554000e+01</td>\n",
       "      <td>5.650000e+01</td>\n",
       "      <td>9.999900e+02</td>\n",
       "      <td>9.110800e+02</td>\n",
       "      <td>3.000000e-01</td>\n",
       "      <td>6.259016e+05</td>\n",
       "    </tr>\n",
       "  </tbody>\n",
       "</table>\n",
       "</div>"
      ],
      "text/plain": [
       "           VendorID  passenger_count  trip_distance    RatecodeID  \\\n",
       "count  9.710124e+06     9.710124e+06   9.710124e+06  9.710124e+06   \n",
       "mean   1.547079e+00     1.628982e+00   2.813899e+00  1.039581e+00   \n",
       "std    4.977787e-01     1.271994e+00   3.611680e+00  5.059084e-01   \n",
       "min    1.000000e+00     0.000000e+00   0.000000e+00  1.000000e+00   \n",
       "25%    1.000000e+00     1.000000e+00   9.500000e-01  1.000000e+00   \n",
       "50%    2.000000e+00     1.000000e+00   1.600000e+00  1.000000e+00   \n",
       "75%    2.000000e+00     2.000000e+00   2.900000e+00  1.000000e+00   \n",
       "max    2.000000e+00     9.000000e+00   2.647100e+02  9.900000e+01   \n",
       "\n",
       "       PULocationID  DOLocationID  payment_type   fare_amount         extra  \\\n",
       "count  9.710124e+06  9.710124e+06  9.710124e+06  9.710124e+06  9.710124e+06   \n",
       "mean   1.641065e+02  1.617627e+02  1.337541e+00  1.237423e+01  3.234861e-01   \n",
       "std    6.664998e+01  7.067207e+01  4.913703e-01  2.652315e+02  4.425577e-01   \n",
       "min    1.000000e+00  1.000000e+00  1.000000e+00 -3.500000e+02 -5.520000e+01   \n",
       "25%    1.140000e+02  1.070000e+02  1.000000e+00  6.500000e+00  0.000000e+00   \n",
       "50%    1.620000e+02  1.620000e+02  1.000000e+00  9.000000e+00  0.000000e+00   \n",
       "75%    2.330000e+02  2.340000e+02  2.000000e+00  1.350000e+01  5.000000e-01   \n",
       "max    2.650000e+02  2.650000e+02  5.000000e+00  6.259008e+05  5.554000e+01   \n",
       "\n",
       "            mta_tax    tip_amount  tolls_amount  improvement_surcharge  \\\n",
       "count  9.710124e+06  9.710124e+06  9.710124e+06           9.710124e+06   \n",
       "mean   4.975229e-01  1.751269e+00  2.764163e-01           2.996799e-01   \n",
       "std    4.881278e-02  2.571253e+00  1.638840e+00           1.341976e-02   \n",
       "min   -5.000000e-01 -4.100000e+01 -1.500000e+01          -3.000000e-01   \n",
       "25%    5.000000e-01  0.000000e+00  0.000000e+00           3.000000e-01   \n",
       "50%    5.000000e-01  1.300000e+00  0.000000e+00           3.000000e-01   \n",
       "75%    5.000000e-01  2.260000e+00  0.000000e+00           3.000000e-01   \n",
       "max    5.650000e+01  9.999900e+02  9.110800e+02           3.000000e-01   \n",
       "\n",
       "       total_amount  \n",
       "count  9.710124e+06  \n",
       "mean   1.552673e+01  \n",
       "std    2.653479e+02  \n",
       "min   -3.503000e+02  \n",
       "25%    8.300000e+00  \n",
       "50%    1.130000e+01  \n",
       "75%    1.675000e+01  \n",
       "max    6.259016e+05  "
      ]
     },
     "execution_count": 5,
     "metadata": {},
     "output_type": "execute_result"
    }
   ],
   "source": [
    "df.describe()"
   ]
  },
  {
   "cell_type": "code",
   "execution_count": 6,
   "metadata": {},
   "outputs": [
    {
     "name": "stdout",
     "output_type": "stream",
     "text": [
      "<class 'pandas.core.frame.DataFrame'>\n",
      "Int64Index: 6311410 entries, 0 to 9710123\n",
      "Data columns (total 17 columns):\n",
      "VendorID                 int64\n",
      "tpep_pickup_datetime     object\n",
      "tpep_dropoff_datetime    object\n",
      "passenger_count          int64\n",
      "trip_distance            float64\n",
      "RatecodeID               int64\n",
      "store_and_fwd_flag       object\n",
      "PULocationID             int64\n",
      "DOLocationID             int64\n",
      "payment_type             int64\n",
      "fare_amount              float64\n",
      "extra                    float64\n",
      "mta_tax                  float64\n",
      "tip_amount               float64\n",
      "tolls_amount             float64\n",
      "improvement_surcharge    float64\n",
      "total_amount             float64\n",
      "dtypes: float64(8), int64(6), object(3)\n",
      "memory usage: 866.7+ MB\n"
     ]
    }
   ],
   "source": [
    "# Since the data is very huge we need to filter the data based on our needs\n",
    "df1 = df[(df['RatecodeID']==1) & (df['total_amount']<75) & (df['payment_type']==1) & ((df['trip_distance']!=0) & df['total_amount']!=0) & (df['trip_distance']<80)]\n",
    "df1.info()"
   ]
  },
  {
   "cell_type": "code",
   "execution_count": 7,
   "metadata": {},
   "outputs": [],
   "source": [
    "df1 = df1.drop(df1.index[500000:],0)"
   ]
  },
  {
   "cell_type": "code",
   "execution_count": 8,
   "metadata": {},
   "outputs": [
    {
     "data": {
      "text/plain": [
       "<matplotlib.axes._subplots.AxesSubplot at 0x26ee66b4320>"
      ]
     },
     "execution_count": 8,
     "metadata": {},
     "output_type": "execute_result"
    },
    {
     "data": {
      "image/png": "[encoded data removed]",
      "text/plain": [
       "<Figure size 432x288 with 1 Axes>"
      ]
     },
     "metadata": {},
     "output_type": "display_data"
    }
   ],
   "source": [
    "sns.distplot(df1['total_amount'])"
   ]
  },
  {
   "cell_type": "code",
   "execution_count": 9,
   "metadata": {},
   "outputs": [
    {
     "data": {
      "text/plain": [
       "<matplotlib.axes._subplots.AxesSubplot at 0x26eb12096a0>"
      ]
     },
     "execution_count": 9,
     "metadata": {},
     "output_type": "execute_result"
    },
    {
     "data": {
      "image/png": "[encoded data removed]",
      "text/plain": [
       "<Figure size 648x360 with 2 Axes>"
      ]
     },
     "metadata": {},
     "output_type": "display_data"
    }
   ],
   "source": [
    "plt.figure(figsize=(9,5))\n",
    "#Removed all the categorical value columns to get the actual data to work on\n",
    "sns.heatmap(df1[['passenger_count', 'trip_distance', 'fare_amount', 'extra',\n",
    "       'mta_tax', 'tip_amount', 'tolls_amount','total_amount']].corr(),annot=True, cmap='Blues')"
   ]
  },
  {
   "cell_type": "code",
   "execution_count": 10,
   "metadata": {},
   "outputs": [
    {
     "data": {
      "text/plain": [
       "Index(['VendorID', 'tpep_pickup_datetime', 'tpep_dropoff_datetime',\n",
       "       'passenger_count', 'trip_distance', 'RatecodeID', 'store_and_fwd_flag',\n",
       "       'PULocationID', 'DOLocationID', 'payment_type', 'fare_amount', 'extra',\n",
       "       'mta_tax', 'tip_amount', 'tolls_amount', 'improvement_surcharge',\n",
       "       'total_amount'],\n",
       "      dtype='object')"
      ]
     },
     "execution_count": 10,
     "metadata": {},
     "output_type": "execute_result"
    }
   ],
   "source": [
    "df1.columns"
   ]
  },
  {
   "cell_type": "code",
   "execution_count": 11,
   "metadata": {},
   "outputs": [],
   "source": [
    "x = df1[['passenger_count', 'trip_distance', 'fare_amount', 'extra', 'mta_tax', 'tip_amount', 'tolls_amount']]\n",
    "y = df1['total_amount']"
   ]
  },
  {
   "cell_type": "code",
   "execution_count": 12,
   "metadata": {},
   "outputs": [],
   "source": [
    "from sklearn.model_selection import train_test_split"
   ]
  },
  {
   "cell_type": "code",
   "execution_count": 26,
   "metadata": {},
   "outputs": [],
   "source": [
    "x_train, x_test, y_train, y_test = train_test_split(x, y, test_size=0.3, random_state=101)"
   ]
  },
  {
   "cell_type": "code",
   "execution_count": 27,
   "metadata": {},
   "outputs": [],
   "source": [
    "from sklearn.linear_model import LinearRegression\n",
    "lm = LinearRegression()"
   ]
  },
  {
   "cell_type": "code",
   "execution_count": 28,
   "metadata": {},
   "outputs": [
    {
     "data": {
      "text/plain": [
       "LinearRegression(copy_X=True, fit_intercept=True, n_jobs=None, normalize=False)"
      ]
     },
     "execution_count": 28,
     "metadata": {},
     "output_type": "execute_result"
    }
   ],
   "source": [
    "lm.fit(x_train, y_train)"
   ]
  },
  {
   "cell_type": "code",
   "execution_count": 29,
   "metadata": {},
   "outputs": [
    {
     "data": {
      "text/plain": [
       "Index(['passenger_count', 'trip_distance', 'fare_amount', 'extra', 'mta_tax',\n",
       "       'tip_amount', 'tolls_amount'],\n",
       "      dtype='object')"
      ]
     },
     "execution_count": 29,
     "metadata": {},
     "output_type": "execute_result"
    }
   ],
   "source": [
    "x_train.columns"
   ]
  },
  {
   "cell_type": "code",
   "execution_count": 30,
   "metadata": {},
   "outputs": [],
   "source": [
    "cdf = pd.DataFrame(lm.coef_, x.columns, columns=['Coeff'])"
   ]
  },
  {
   "cell_type": "code",
   "execution_count": 31,
   "metadata": {},
   "outputs": [
    {
     "data": {
      "text/html": [
       "<div>\n",
       "<style scoped>\n",
       "    .dataframe tbody tr th:only-of-type {\n",
       "        vertical-align: middle;\n",
       "    }\n",
       "\n",
       "    .dataframe tbody tr th {\n",
       "        vertical-align: top;\n",
       "    }\n",
       "\n",
       "    .dataframe thead th {\n",
       "        text-align: right;\n",
       "    }\n",
       "</style>\n",
       "<table border=\"1\" class=\"dataframe\">\n",
       "  <thead>\n",
       "    <tr style=\"text-align: right;\">\n",
       "      <th></th>\n",
       "      <th>VendorID</th>\n",
       "      <th>passenger_count</th>\n",
       "      <th>trip_distance</th>\n",
       "      <th>RatecodeID</th>\n",
       "      <th>PULocationID</th>\n",
       "      <th>DOLocationID</th>\n",
       "      <th>payment_type</th>\n",
       "      <th>fare_amount</th>\n",
       "      <th>extra</th>\n",
       "      <th>mta_tax</th>\n",
       "      <th>tip_amount</th>\n",
       "      <th>tolls_amount</th>\n",
       "      <th>improvement_surcharge</th>\n",
       "      <th>total_amount</th>\n",
       "    </tr>\n",
       "  </thead>\n",
       "  <tbody>\n",
       "    <tr>\n",
       "      <th>count</th>\n",
       "      <td>500000.000000</td>\n",
       "      <td>500000.000000</td>\n",
       "      <td>500000.000000</td>\n",
       "      <td>500000.0</td>\n",
       "      <td>500000.000000</td>\n",
       "      <td>500000.000000</td>\n",
       "      <td>500000.0</td>\n",
       "      <td>500000.000000</td>\n",
       "      <td>500000.000000</td>\n",
       "      <td>500000.000000</td>\n",
       "      <td>500000.000000</td>\n",
       "      <td>500000.000000</td>\n",
       "      <td>500000.000000</td>\n",
       "      <td>500000.000000</td>\n",
       "    </tr>\n",
       "    <tr>\n",
       "      <th>mean</th>\n",
       "      <td>1.558768</td>\n",
       "      <td>1.688450</td>\n",
       "      <td>2.766236</td>\n",
       "      <td>1.0</td>\n",
       "      <td>160.331298</td>\n",
       "      <td>158.040290</td>\n",
       "      <td>1.0</td>\n",
       "      <td>11.517600</td>\n",
       "      <td>0.246570</td>\n",
       "      <td>0.499931</td>\n",
       "      <td>2.343946</td>\n",
       "      <td>0.166672</td>\n",
       "      <td>0.299999</td>\n",
       "      <td>15.080165</td>\n",
       "    </tr>\n",
       "    <tr>\n",
       "      <th>std</th>\n",
       "      <td>0.496535</td>\n",
       "      <td>1.286352</td>\n",
       "      <td>2.785447</td>\n",
       "      <td>0.0</td>\n",
       "      <td>67.933251</td>\n",
       "      <td>72.863457</td>\n",
       "      <td>0.0</td>\n",
       "      <td>7.833594</td>\n",
       "      <td>0.260602</td>\n",
       "      <td>0.005873</td>\n",
       "      <td>1.861029</td>\n",
       "      <td>0.958197</td>\n",
       "      <td>0.000424</td>\n",
       "      <td>9.778231</td>\n",
       "    </tr>\n",
       "    <tr>\n",
       "      <th>min</th>\n",
       "      <td>1.000000</td>\n",
       "      <td>1.000000</td>\n",
       "      <td>0.010000</td>\n",
       "      <td>1.0</td>\n",
       "      <td>1.000000</td>\n",
       "      <td>1.000000</td>\n",
       "      <td>1.0</td>\n",
       "      <td>2.500000</td>\n",
       "      <td>0.000000</td>\n",
       "      <td>0.000000</td>\n",
       "      <td>0.000000</td>\n",
       "      <td>0.000000</td>\n",
       "      <td>0.000000</td>\n",
       "      <td>3.300000</td>\n",
       "    </tr>\n",
       "    <tr>\n",
       "      <th>25%</th>\n",
       "      <td>1.000000</td>\n",
       "      <td>1.000000</td>\n",
       "      <td>1.100000</td>\n",
       "      <td>1.0</td>\n",
       "      <td>107.000000</td>\n",
       "      <td>100.000000</td>\n",
       "      <td>1.0</td>\n",
       "      <td>6.500000</td>\n",
       "      <td>0.000000</td>\n",
       "      <td>0.500000</td>\n",
       "      <td>1.250000</td>\n",
       "      <td>0.000000</td>\n",
       "      <td>0.300000</td>\n",
       "      <td>8.800000</td>\n",
       "    </tr>\n",
       "    <tr>\n",
       "      <th>50%</th>\n",
       "      <td>2.000000</td>\n",
       "      <td>1.000000</td>\n",
       "      <td>1.800000</td>\n",
       "      <td>1.0</td>\n",
       "      <td>161.000000</td>\n",
       "      <td>161.000000</td>\n",
       "      <td>1.0</td>\n",
       "      <td>9.000000</td>\n",
       "      <td>0.000000</td>\n",
       "      <td>0.500000</td>\n",
       "      <td>1.950000</td>\n",
       "      <td>0.000000</td>\n",
       "      <td>0.300000</td>\n",
       "      <td>11.800000</td>\n",
       "    </tr>\n",
       "    <tr>\n",
       "      <th>75%</th>\n",
       "      <td>2.000000</td>\n",
       "      <td>2.000000</td>\n",
       "      <td>3.250000</td>\n",
       "      <td>1.0</td>\n",
       "      <td>233.000000</td>\n",
       "      <td>233.000000</td>\n",
       "      <td>1.0</td>\n",
       "      <td>13.500000</td>\n",
       "      <td>0.500000</td>\n",
       "      <td>0.500000</td>\n",
       "      <td>2.820000</td>\n",
       "      <td>0.000000</td>\n",
       "      <td>0.300000</td>\n",
       "      <td>17.300000</td>\n",
       "    </tr>\n",
       "    <tr>\n",
       "      <th>max</th>\n",
       "      <td>2.000000</td>\n",
       "      <td>6.000000</td>\n",
       "      <td>27.620000</td>\n",
       "      <td>1.0</td>\n",
       "      <td>265.000000</td>\n",
       "      <td>265.000000</td>\n",
       "      <td>1.0</td>\n",
       "      <td>74.000000</td>\n",
       "      <td>1.000000</td>\n",
       "      <td>0.500000</td>\n",
       "      <td>62.000000</td>\n",
       "      <td>50.000000</td>\n",
       "      <td>0.300000</td>\n",
       "      <td>74.920000</td>\n",
       "    </tr>\n",
       "  </tbody>\n",
       "</table>\n",
       "</div>"
      ],
      "text/plain": [
       "            VendorID  passenger_count  trip_distance  RatecodeID  \\\n",
       "count  500000.000000    500000.000000  500000.000000    500000.0   \n",
       "mean        1.558768         1.688450       2.766236         1.0   \n",
       "std         0.496535         1.286352       2.785447         0.0   \n",
       "min         1.000000         1.000000       0.010000         1.0   \n",
       "25%         1.000000         1.000000       1.100000         1.0   \n",
       "50%         2.000000         1.000000       1.800000         1.0   \n",
       "75%         2.000000         2.000000       3.250000         1.0   \n",
       "max         2.000000         6.000000      27.620000         1.0   \n",
       "\n",
       "        PULocationID   DOLocationID  payment_type    fare_amount  \\\n",
       "count  500000.000000  500000.000000      500000.0  500000.000000   \n",
       "mean      160.331298     158.040290           1.0      11.517600   \n",
       "std        67.933251      72.863457           0.0       7.833594   \n",
       "min         1.000000       1.000000           1.0       2.500000   \n",
       "25%       107.000000     100.000000           1.0       6.500000   \n",
       "50%       161.000000     161.000000           1.0       9.000000   \n",
       "75%       233.000000     233.000000           1.0      13.500000   \n",
       "max       265.000000     265.000000           1.0      74.000000   \n",
       "\n",
       "               extra        mta_tax     tip_amount   tolls_amount  \\\n",
       "count  500000.000000  500000.000000  500000.000000  500000.000000   \n",
       "mean        0.246570       0.499931       2.343946       0.166672   \n",
       "std         0.260602       0.005873       1.861029       0.958197   \n",
       "min         0.000000       0.000000       0.000000       0.000000   \n",
       "25%         0.000000       0.500000       1.250000       0.000000   \n",
       "50%         0.000000       0.500000       1.950000       0.000000   \n",
       "75%         0.500000       0.500000       2.820000       0.000000   \n",
       "max         1.000000       0.500000      62.000000      50.000000   \n",
       "\n",
       "       improvement_surcharge   total_amount  \n",
       "count          500000.000000  500000.000000  \n",
       "mean                0.299999      15.080165  \n",
       "std                 0.000424       9.778231  \n",
       "min                 0.000000       3.300000  \n",
       "25%                 0.300000       8.800000  \n",
       "50%                 0.300000      11.800000  \n",
       "75%                 0.300000      17.300000  \n",
       "max                 0.300000      74.920000  "
      ]
     },
     "execution_count": 31,
     "metadata": {},
     "output_type": "execute_result"
    }
   ],
   "source": [
    "df1.describe()"
   ]
  },
  {
   "cell_type": "code",
   "execution_count": 32,
   "metadata": {},
   "outputs": [
    {
     "data": {
      "text/html": [
       "<div>\n",
       "<style scoped>\n",
       "    .dataframe tbody tr th:only-of-type {\n",
       "        vertical-align: middle;\n",
       "    }\n",
       "\n",
       "    .dataframe tbody tr th {\n",
       "        vertical-align: top;\n",
       "    }\n",
       "\n",
       "    .dataframe thead th {\n",
       "        text-align: right;\n",
       "    }\n",
       "</style>\n",
       "<table border=\"1\" class=\"dataframe\">\n",
       "  <thead>\n",
       "    <tr style=\"text-align: right;\">\n",
       "      <th></th>\n",
       "      <th>Coeff</th>\n",
       "    </tr>\n",
       "  </thead>\n",
       "  <tbody>\n",
       "    <tr>\n",
       "      <th>passenger_count</th>\n",
       "      <td>0.000926</td>\n",
       "    </tr>\n",
       "    <tr>\n",
       "      <th>trip_distance</th>\n",
       "      <td>-0.000260</td>\n",
       "    </tr>\n",
       "    <tr>\n",
       "      <th>fare_amount</th>\n",
       "      <td>1.000546</td>\n",
       "    </tr>\n",
       "    <tr>\n",
       "      <th>extra</th>\n",
       "      <td>1.000426</td>\n",
       "    </tr>\n",
       "    <tr>\n",
       "      <th>mta_tax</th>\n",
       "      <td>1.010594</td>\n",
       "    </tr>\n",
       "    <tr>\n",
       "      <th>tip_amount</th>\n",
       "      <td>0.999434</td>\n",
       "    </tr>\n",
       "    <tr>\n",
       "      <th>tolls_amount</th>\n",
       "      <td>0.998972</td>\n",
       "    </tr>\n",
       "  </tbody>\n",
       "</table>\n",
       "</div>"
      ],
      "text/plain": [
       "                    Coeff\n",
       "passenger_count  0.000926\n",
       "trip_distance   -0.000260\n",
       "fare_amount      1.000546\n",
       "extra            1.000426\n",
       "mta_tax          1.010594\n",
       "tip_amount       0.999434\n",
       "tolls_amount     0.998972"
      ]
     },
     "execution_count": 32,
     "metadata": {},
     "output_type": "execute_result"
    }
   ],
   "source": [
    "cdf"
   ]
  },
  {
   "cell_type": "code",
   "execution_count": 33,
   "metadata": {},
   "outputs": [],
   "source": [
    "y_pred = lm.predict(x_test)"
   ]
  },
  {
   "cell_type": "code",
   "execution_count": 34,
   "metadata": {},
   "outputs": [
    {
     "data": {
      "text/plain": [
       "array([ 8.16276845,  7.25379628, 34.10940296, ..., 15.95520953,\n",
       "       20.17005137, 18.3088633 ])"
      ]
     },
     "execution_count": 34,
     "metadata": {},
     "output_type": "execute_result"
    }
   ],
   "source": [
    "y_pred"
   ]
  },
  {
   "cell_type": "code",
   "execution_count": 45,
   "metadata": {},
   "outputs": [
    {
     "data": {
      "text/plain": [
       "<matplotlib.collections.PathCollection at 0x26f04ea8898>"
      ]
     },
     "execution_count": 45,
     "metadata": {},
     "output_type": "execute_result"
    },
    {
     "data": {
      "image/png": "[encoded data removed]",
      "text/plain": [
       "<Figure size 432x288 with 1 Axes>"
      ]
     },
     "metadata": {},
     "output_type": "display_data"
    }
   ],
   "source": [
    "plt.scatter(y_test,y_pred)"
   ]
  },
  {
   "cell_type": "code",
   "execution_count": 46,
   "metadata": {},
   "outputs": [
    {
     "data": {
      "text/plain": [
       "<matplotlib.axes._subplots.AxesSubplot at 0x26f051a5d30>"
      ]
     },
     "execution_count": 46,
     "metadata": {},
     "output_type": "execute_result"
    },
    {
     "data": {
      "image/png": "[encoded data removed]",
      "text/plain": [
       "<Figure size 720x576 with 1 Axes>"
      ]
     },
     "metadata": {},
     "output_type": "display_data"
    }
   ],
   "source": [
    "plt.figure(figsize=(10,8))\n",
    "sns.distplot(y_test-y_pred,bins=50)"
   ]
  },
  {
   "cell_type": "code",
   "execution_count": 37,
   "metadata": {},
   "outputs": [],
   "source": [
    "from sklearn import metrics"
   ]
  },
  {
   "cell_type": "code",
   "execution_count": 38,
   "metadata": {},
   "outputs": [
    {
     "name": "stdout",
     "output_type": "stream",
     "text": [
      "MAE is:\t 0.01090101412486229\n",
      "MSE is:\t 0.01177316900270165\n",
      "RMSE is: 0.1085042349528425\n"
     ]
    }
   ],
   "source": [
    "print(\"MAE is:\\t\",metrics.mean_absolute_error(y_test,y_pred))\n",
    "print(\"MSE is:\\t\",metrics.mean_squared_error(y_test, y_pred))\n",
    "print(\"RMSE is:\",np.sqrt(metrics.mean_squared_error(y_test, y_pred)))"
   ]
  },
  {
   "cell_type": "code",
   "execution_count": null,
   "metadata": {},
   "outputs": [],
   "source": [
    "     "
   ]
  }
 ],
 "metadata": {
  "kernelspec": {
   "display_name": "Python 3",
   "language": "python",
   "name": "python3"
  },
  "language_info": {
   "codemirror_mode": {
    "name": "ipython",
    "version": 3
   },
   "file_extension": ".py",
   "mimetype": "text/x-python",
   "name": "python",
   "nbconvert_exporter": "python",
   "pygments_lexer": "ipython3",
   "version": "3.7.3"
  }
 },
 "nbformat": 4,
 "nbformat_minor": 2
}
